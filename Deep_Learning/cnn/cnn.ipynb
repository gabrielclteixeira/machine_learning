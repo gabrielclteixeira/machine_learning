{
 "cells": [
  {
   "cell_type": "markdown",
   "metadata": {},
   "source": [
    "Importing libraries"
   ]
  },
  {
   "cell_type": "code",
   "execution_count": 1,
   "metadata": {},
   "outputs": [],
   "source": [
    "import tensorflow as tf\n",
    "from keras.preprocessing.image import ImageDataGenerator"
   ]
  },
  {
   "cell_type": "markdown",
   "metadata": {},
   "source": [
    "Data preprocessing"
   ]
  },
  {
   "cell_type": "markdown",
   "metadata": {},
   "source": [
    "Training set"
   ]
  },
  {
   "cell_type": "code",
   "execution_count": 2,
   "metadata": {},
   "outputs": [
    {
     "name": "stdout",
     "output_type": "stream",
     "text": [
      "Found 8000 images belonging to 2 classes.\n"
     ]
    }
   ],
   "source": [
    "train_datagen = ImageDataGenerator(\n",
    "    rescale = 1./255,\n",
    "    shear_range = 0.2,\n",
    "    zoom_range = 0.2,\n",
    "    horizontal_flip = True\n",
    ")\n",
    "train_set = train_datagen.flow_from_directory(\n",
    "    './training_set',\n",
    "    target_size = (64, 64),\n",
    "    batch_size = 32,\n",
    "    class_mode = 'binary'\n",
    ")"
   ]
  },
  {
   "cell_type": "markdown",
   "metadata": {},
   "source": [
    "Test set"
   ]
  },
  {
   "cell_type": "code",
   "execution_count": 3,
   "metadata": {},
   "outputs": [
    {
     "name": "stdout",
     "output_type": "stream",
     "text": [
      "Found 2000 images belonging to 2 classes.\n"
     ]
    }
   ],
   "source": [
    "test_datagen = ImageDataGenerator(rescale = 1./255)\n",
    "test_set = test_datagen.flow_from_directory(\n",
    "    './test_set',\n",
    "    target_size = (64, 64),\n",
    "    batch_size = 32,\n",
    "    class_mode = 'binary'\n",
    ")"
   ]
  },
  {
   "cell_type": "markdown",
   "metadata": {},
   "source": [
    "Building the Convolutional Neural Network"
   ]
  },
  {
   "cell_type": "markdown",
   "metadata": {},
   "source": [
    "Initializing"
   ]
  },
  {
   "cell_type": "code",
   "execution_count": 4,
   "metadata": {},
   "outputs": [],
   "source": [
    "cnn = tf.keras.models.Sequential()"
   ]
  },
  {
   "cell_type": "code",
   "execution_count": 5,
   "metadata": {},
   "outputs": [],
   "source": [
    "cnn.add(tf.keras.layers.Conv2D(filters=32, activation='relu', kernel_size=3, input_shape = [64, 64, 3]))"
   ]
  },
  {
   "cell_type": "code",
   "execution_count": 6,
   "metadata": {},
   "outputs": [],
   "source": [
    "cnn.add(tf.keras.layers.MaxPool2D(pool_size = 2, strides = 2))"
   ]
  },
  {
   "cell_type": "code",
   "execution_count": 7,
   "metadata": {},
   "outputs": [],
   "source": [
    "cnn.add(tf.keras.layers.Conv2D(filters=32, activation='relu', kernel_size=3))\n",
    "cnn.add(tf.keras.layers.MaxPool2D(pool_size = 2, strides = 2))"
   ]
  },
  {
   "cell_type": "markdown",
   "metadata": {},
   "source": [
    "Flattening"
   ]
  },
  {
   "cell_type": "code",
   "execution_count": 8,
   "metadata": {},
   "outputs": [],
   "source": [
    "cnn.add(tf.keras.layers.Flatten())"
   ]
  },
  {
   "cell_type": "markdown",
   "metadata": {},
   "source": [
    "Full connection"
   ]
  },
  {
   "cell_type": "code",
   "execution_count": 9,
   "metadata": {},
   "outputs": [],
   "source": [
    "cnn.add(tf.keras.layers.Dense(units=128, activation='relu'))"
   ]
  },
  {
   "cell_type": "markdown",
   "metadata": {},
   "source": [
    "Output Layer"
   ]
  },
  {
   "cell_type": "code",
   "execution_count": 10,
   "metadata": {},
   "outputs": [],
   "source": [
    "cnn.add(tf.keras.layers.Dense(units=1, activation='sigmoid'))"
   ]
  },
  {
   "cell_type": "markdown",
   "metadata": {},
   "source": [
    "Compiling the CNN"
   ]
  },
  {
   "cell_type": "code",
   "execution_count": 11,
   "metadata": {},
   "outputs": [],
   "source": [
    "cnn.compile(optimizer= 'adam', loss= 'binary_crossentropy', metrics= ['accuracy'])"
   ]
  },
  {
   "cell_type": "markdown",
   "metadata": {},
   "source": [
    "Training the CNN"
   ]
  },
  {
   "cell_type": "code",
   "execution_count": 12,
   "metadata": {},
   "outputs": [
    {
     "name": "stdout",
     "output_type": "stream",
     "text": [
      "Epoch 1/25\n",
      "250/250 [==============================] - 43s 172ms/step - loss: 0.6786 - accuracy: 0.5600 - val_loss: 0.6504 - val_accuracy: 0.6590\n",
      "Epoch 2/25\n",
      "250/250 [==============================] - 19s 77ms/step - loss: 0.6273 - accuracy: 0.6525 - val_loss: 0.6488 - val_accuracy: 0.6200\n",
      "Epoch 3/25\n",
      "250/250 [==============================] - 19s 77ms/step - loss: 0.5771 - accuracy: 0.6975 - val_loss: 0.5822 - val_accuracy: 0.6850\n",
      "Epoch 4/25\n",
      "250/250 [==============================] - 19s 77ms/step - loss: 0.5386 - accuracy: 0.7272 - val_loss: 0.5155 - val_accuracy: 0.7395\n",
      "Epoch 5/25\n",
      "250/250 [==============================] - 19s 78ms/step - loss: 0.5083 - accuracy: 0.7456 - val_loss: 0.5055 - val_accuracy: 0.7525\n",
      "Epoch 6/25\n",
      "250/250 [==============================] - 19s 76ms/step - loss: 0.4863 - accuracy: 0.7632 - val_loss: 0.5002 - val_accuracy: 0.7740\n",
      "Epoch 7/25\n",
      "250/250 [==============================] - 20s 80ms/step - loss: 0.4675 - accuracy: 0.7721 - val_loss: 0.5795 - val_accuracy: 0.7235\n",
      "Epoch 8/25\n",
      "250/250 [==============================] - 20s 78ms/step - loss: 0.4455 - accuracy: 0.7886 - val_loss: 0.5008 - val_accuracy: 0.7665\n",
      "Epoch 9/25\n",
      "250/250 [==============================] - 19s 77ms/step - loss: 0.4288 - accuracy: 0.7983 - val_loss: 0.4650 - val_accuracy: 0.7925\n",
      "Epoch 10/25\n",
      "250/250 [==============================] - 19s 75ms/step - loss: 0.4166 - accuracy: 0.8067 - val_loss: 0.4545 - val_accuracy: 0.7980\n",
      "Epoch 11/25\n",
      "250/250 [==============================] - 19s 76ms/step - loss: 0.3960 - accuracy: 0.8190 - val_loss: 0.4701 - val_accuracy: 0.7850\n",
      "Epoch 12/25\n",
      "250/250 [==============================] - 20s 78ms/step - loss: 0.3711 - accuracy: 0.8316 - val_loss: 0.4843 - val_accuracy: 0.8050\n",
      "Epoch 13/25\n",
      "250/250 [==============================] - 19s 75ms/step - loss: 0.3636 - accuracy: 0.8369 - val_loss: 0.4619 - val_accuracy: 0.8025\n",
      "Epoch 14/25\n",
      "250/250 [==============================] - 20s 79ms/step - loss: 0.3462 - accuracy: 0.8451 - val_loss: 0.5037 - val_accuracy: 0.7675\n",
      "Epoch 15/25\n",
      "250/250 [==============================] - 19s 77ms/step - loss: 0.3310 - accuracy: 0.8530 - val_loss: 0.4905 - val_accuracy: 0.7930\n",
      "Epoch 16/25\n",
      "250/250 [==============================] - 19s 76ms/step - loss: 0.3167 - accuracy: 0.8594 - val_loss: 0.4640 - val_accuracy: 0.7985\n",
      "Epoch 17/25\n",
      "250/250 [==============================] - 19s 76ms/step - loss: 0.2955 - accuracy: 0.8717 - val_loss: 0.5307 - val_accuracy: 0.7940\n",
      "Epoch 18/25\n",
      "250/250 [==============================] - 19s 77ms/step - loss: 0.2907 - accuracy: 0.8740 - val_loss: 0.4902 - val_accuracy: 0.8040\n",
      "Epoch 19/25\n",
      "250/250 [==============================] - 19s 77ms/step - loss: 0.2674 - accuracy: 0.8854 - val_loss: 0.4979 - val_accuracy: 0.7950\n",
      "Epoch 20/25\n",
      "250/250 [==============================] - 19s 77ms/step - loss: 0.2504 - accuracy: 0.8940 - val_loss: 0.5211 - val_accuracy: 0.8020\n",
      "Epoch 21/25\n",
      "250/250 [==============================] - 19s 78ms/step - loss: 0.2397 - accuracy: 0.8984 - val_loss: 0.5940 - val_accuracy: 0.7830\n",
      "Epoch 22/25\n",
      "250/250 [==============================] - 19s 78ms/step - loss: 0.2374 - accuracy: 0.8992 - val_loss: 0.5294 - val_accuracy: 0.8030\n",
      "Epoch 23/25\n",
      "250/250 [==============================] - 19s 76ms/step - loss: 0.2090 - accuracy: 0.9136 - val_loss: 0.5752 - val_accuracy: 0.8010\n",
      "Epoch 24/25\n",
      "250/250 [==============================] - 20s 79ms/step - loss: 0.1958 - accuracy: 0.9183 - val_loss: 0.6258 - val_accuracy: 0.7875\n",
      "Epoch 25/25\n",
      "250/250 [==============================] - 19s 77ms/step - loss: 0.1989 - accuracy: 0.9214 - val_loss: 0.6036 - val_accuracy: 0.7930\n"
     ]
    },
    {
     "data": {
      "text/plain": [
       "<keras.callbacks.History at 0x1d0d0cc2920>"
      ]
     },
     "execution_count": 12,
     "metadata": {},
     "output_type": "execute_result"
    }
   ],
   "source": [
    "cnn.fit(\n",
    "    x = train_set,\n",
    "    epochs = 25,\n",
    "    validation_data = test_set,\n",
    ")"
   ]
  },
  {
   "cell_type": "markdown",
   "metadata": {},
   "source": [
    "Predictions"
   ]
  },
  {
   "cell_type": "code",
   "execution_count": 18,
   "metadata": {},
   "outputs": [
    {
     "name": "stdout",
     "output_type": "stream",
     "text": [
      "1/1 [==============================] - 0s 14ms/step\n",
      "dog\n"
     ]
    }
   ],
   "source": [
    "import numpy as np\n",
    "from keras.utils import load_img, array_to_img\n",
    "test_image = load_img('./single_prediction/cat_or_dog_1.jpg', target_size = (64, 64))\n",
    "test_image = array_to_img(test_image)\n",
    "test_image = np.expand_dims(test_image, axis = 0)\n",
    "result = cnn.predict(test_image)\n",
    "train_set.class_indices\n",
    "if result[0][0] == 1:\n",
    "    prediction = 'dog'\n",
    "else:\n",
    "    prediction = 'cat'\n",
    "print(prediction)"
   ]
  }
 ],
 "metadata": {
  "kernelspec": {
   "display_name": "Python 3.10.5 64-bit",
   "language": "python",
   "name": "python3"
  },
  "language_info": {
   "codemirror_mode": {
    "name": "ipython",
    "version": 3
   },
   "file_extension": ".py",
   "mimetype": "text/x-python",
   "name": "python",
   "nbconvert_exporter": "python",
   "pygments_lexer": "ipython3",
   "version": "3.10.5"
  },
  "orig_nbformat": 4,
  "vscode": {
   "interpreter": {
    "hash": "26de051ba29f2982a8de78e945f0abaf191376122a1563185a90213a26c5da77"
   }
  }
 },
 "nbformat": 4,
 "nbformat_minor": 2
}
