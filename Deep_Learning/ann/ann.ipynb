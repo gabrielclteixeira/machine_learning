{
 "cells": [
  {
   "cell_type": "markdown",
   "metadata": {},
   "source": [
    "Importing libraries"
   ]
  },
  {
   "cell_type": "code",
   "execution_count": 1,
   "metadata": {},
   "outputs": [],
   "source": [
    "import pandas as pd\n",
    "import tensorflow as tf\n",
    "import numpy as np"
   ]
  },
  {
   "cell_type": "markdown",
   "metadata": {},
   "source": [
    "Importing dataset"
   ]
  },
  {
   "cell_type": "code",
   "execution_count": 2,
   "metadata": {},
   "outputs": [],
   "source": [
    "dataset = pd.read_csv('Churn_Modelling.csv')\n",
    "X = dataset.iloc[:, 3:-1].values\n",
    "y = dataset.iloc[:,-1].values"
   ]
  },
  {
   "cell_type": "markdown",
   "metadata": {},
   "source": [
    "Label Encoder"
   ]
  },
  {
   "cell_type": "code",
   "execution_count": 3,
   "metadata": {},
   "outputs": [],
   "source": [
    "from sklearn.preprocessing import LabelEncoder\n",
    "le = LabelEncoder()\n",
    "X[:,2] = le.fit_transform(X[:,2])"
   ]
  },
  {
   "cell_type": "markdown",
   "metadata": {},
   "source": [
    "Categorical data handling"
   ]
  },
  {
   "cell_type": "code",
   "execution_count": 4,
   "metadata": {},
   "outputs": [],
   "source": [
    "from sklearn.preprocessing import OneHotEncoder\n",
    "from sklearn.compose import ColumnTransformer\n",
    "ct = ColumnTransformer(transformers=[('encoder', OneHotEncoder(), [1])], remainder='passthrough')\n",
    "X = np.array(ct.fit_transform(X))"
   ]
  },
  {
   "cell_type": "code",
   "execution_count": 5,
   "metadata": {},
   "outputs": [
    {
     "data": {
      "text/plain": [
       "array([[1.0, 0.0, 0.0, ..., 1, 1, 101348.88],\n",
       "       [0.0, 0.0, 1.0, ..., 0, 1, 112542.58],\n",
       "       [1.0, 0.0, 0.0, ..., 1, 0, 113931.57],\n",
       "       ...,\n",
       "       [1.0, 0.0, 0.0, ..., 0, 1, 42085.58],\n",
       "       [0.0, 1.0, 0.0, ..., 1, 0, 92888.52],\n",
       "       [1.0, 0.0, 0.0, ..., 1, 0, 38190.78]], dtype=object)"
      ]
     },
     "execution_count": 5,
     "metadata": {},
     "output_type": "execute_result"
    }
   ],
   "source": [
    "X"
   ]
  },
  {
   "cell_type": "markdown",
   "metadata": {},
   "source": [
    "Splitting into training and test sets"
   ]
  },
  {
   "cell_type": "code",
   "execution_count": 6,
   "metadata": {},
   "outputs": [],
   "source": [
    "from sklearn.model_selection import train_test_split\n",
    "X_train, X_test, y_train, y_test = train_test_split(X, y, test_size = 0.20, random_state = 0)"
   ]
  },
  {
   "cell_type": "markdown",
   "metadata": {},
   "source": [
    "Feature Scaling "
   ]
  },
  {
   "cell_type": "code",
   "execution_count": 7,
   "metadata": {},
   "outputs": [],
   "source": [
    "from sklearn.preprocessing import StandardScaler\n",
    "sc = StandardScaler()\n",
    "X_train = sc.fit_transform(X_train)\n",
    "X_test = sc.transform(X_test)"
   ]
  },
  {
   "cell_type": "markdown",
   "metadata": {},
   "source": [
    "Building the Artificial Neural Network"
   ]
  },
  {
   "cell_type": "markdown",
   "metadata": {},
   "source": [
    "Initializing"
   ]
  },
  {
   "cell_type": "code",
   "execution_count": 8,
   "metadata": {},
   "outputs": [],
   "source": [
    "ann = tf.keras.models.Sequential()"
   ]
  },
  {
   "cell_type": "markdown",
   "metadata": {},
   "source": [
    "Adding the input layer and the 1st hidden layer"
   ]
  },
  {
   "cell_type": "code",
   "execution_count": 9,
   "metadata": {},
   "outputs": [],
   "source": [
    "ann.add(tf.keras.layers.Dense(units=6, activation='relu'))"
   ]
  },
  {
   "cell_type": "markdown",
   "metadata": {},
   "source": [
    "Adding the second layer"
   ]
  },
  {
   "cell_type": "code",
   "execution_count": 10,
   "metadata": {},
   "outputs": [],
   "source": [
    "ann.add(tf.keras.layers.Dense(units=6, activation='relu'))"
   ]
  },
  {
   "cell_type": "markdown",
   "metadata": {},
   "source": [
    "Adding the output layer"
   ]
  },
  {
   "cell_type": "code",
   "execution_count": 11,
   "metadata": {},
   "outputs": [],
   "source": [
    "ann.add(tf.keras.layers.Dense(units=1, activation='sigmoid'))"
   ]
  },
  {
   "cell_type": "markdown",
   "metadata": {},
   "source": [
    "Compiling"
   ]
  },
  {
   "cell_type": "code",
   "execution_count": 12,
   "metadata": {},
   "outputs": [],
   "source": [
    "ann.compile(optimizer= 'adam', loss= 'binary_crossentropy', metrics= ['accuracy'])"
   ]
  },
  {
   "cell_type": "markdown",
   "metadata": {},
   "source": [
    "Training the ANN model"
   ]
  },
  {
   "cell_type": "code",
   "execution_count": 13,
   "metadata": {},
   "outputs": [
    {
     "name": "stdout",
     "output_type": "stream",
     "text": [
      "Epoch 1/100\n",
      "250/250 [==============================] - 1s 1ms/step - loss: 0.5396 - accuracy: 0.7703\n",
      "Epoch 2/100\n",
      "250/250 [==============================] - 0s 1ms/step - loss: 0.4527 - accuracy: 0.7956\n",
      "Epoch 3/100\n",
      "250/250 [==============================] - 0s 1ms/step - loss: 0.4275 - accuracy: 0.8056\n",
      "Epoch 4/100\n",
      "250/250 [==============================] - 0s 1ms/step - loss: 0.4176 - accuracy: 0.8112\n",
      "Epoch 5/100\n",
      "250/250 [==============================] - 0s 909us/step - loss: 0.4108 - accuracy: 0.8134\n",
      "Epoch 6/100\n",
      "250/250 [==============================] - 0s 961us/step - loss: 0.4048 - accuracy: 0.8179\n",
      "Epoch 7/100\n",
      "250/250 [==============================] - 0s 1ms/step - loss: 0.3988 - accuracy: 0.8226\n",
      "Epoch 8/100\n",
      "250/250 [==============================] - 0s 1ms/step - loss: 0.3926 - accuracy: 0.8274\n",
      "Epoch 9/100\n",
      "250/250 [==============================] - 0s 1ms/step - loss: 0.3876 - accuracy: 0.8292\n",
      "Epoch 10/100\n",
      "250/250 [==============================] - 0s 1ms/step - loss: 0.3833 - accuracy: 0.8307\n",
      "Epoch 11/100\n",
      "250/250 [==============================] - 0s 911us/step - loss: 0.3799 - accuracy: 0.8381\n",
      "Epoch 12/100\n",
      "250/250 [==============================] - 0s 1ms/step - loss: 0.3769 - accuracy: 0.8391\n",
      "Epoch 13/100\n",
      "250/250 [==============================] - 0s 1ms/step - loss: 0.3741 - accuracy: 0.8419\n",
      "Epoch 14/100\n",
      "250/250 [==============================] - 0s 1ms/step - loss: 0.3716 - accuracy: 0.8441\n",
      "Epoch 15/100\n",
      "250/250 [==============================] - 0s 1ms/step - loss: 0.3697 - accuracy: 0.8434\n",
      "Epoch 16/100\n",
      "250/250 [==============================] - 0s 896us/step - loss: 0.3675 - accuracy: 0.8465\n",
      "Epoch 17/100\n",
      "250/250 [==============================] - 0s 988us/step - loss: 0.3654 - accuracy: 0.8461\n",
      "Epoch 18/100\n",
      "250/250 [==============================] - 0s 1ms/step - loss: 0.3635 - accuracy: 0.8485\n",
      "Epoch 19/100\n",
      "250/250 [==============================] - 0s 915us/step - loss: 0.3615 - accuracy: 0.8494\n",
      "Epoch 20/100\n",
      "250/250 [==============================] - 0s 884us/step - loss: 0.3596 - accuracy: 0.8508\n",
      "Epoch 21/100\n",
      "250/250 [==============================] - 0s 919us/step - loss: 0.3581 - accuracy: 0.8512\n",
      "Epoch 22/100\n",
      "250/250 [==============================] - 0s 926us/step - loss: 0.3559 - accuracy: 0.8533\n",
      "Epoch 23/100\n",
      "250/250 [==============================] - 0s 1ms/step - loss: 0.3546 - accuracy: 0.8537\n",
      "Epoch 24/100\n",
      "250/250 [==============================] - 0s 1ms/step - loss: 0.3529 - accuracy: 0.8555\n",
      "Epoch 25/100\n",
      "250/250 [==============================] - 0s 982us/step - loss: 0.3512 - accuracy: 0.8565\n",
      "Epoch 26/100\n",
      "250/250 [==============================] - 0s 1ms/step - loss: 0.3503 - accuracy: 0.8574\n",
      "Epoch 27/100\n",
      "250/250 [==============================] - 0s 980us/step - loss: 0.3489 - accuracy: 0.8580\n",
      "Epoch 28/100\n",
      "250/250 [==============================] - 0s 952us/step - loss: 0.3482 - accuracy: 0.8576\n",
      "Epoch 29/100\n",
      "250/250 [==============================] - 0s 897us/step - loss: 0.3474 - accuracy: 0.8577\n",
      "Epoch 30/100\n",
      "250/250 [==============================] - 0s 1ms/step - loss: 0.3462 - accuracy: 0.8579\n",
      "Epoch 31/100\n",
      "250/250 [==============================] - 0s 952us/step - loss: 0.3454 - accuracy: 0.8577\n",
      "Epoch 32/100\n",
      "250/250 [==============================] - 0s 917us/step - loss: 0.3449 - accuracy: 0.8609\n",
      "Epoch 33/100\n",
      "250/250 [==============================] - 0s 926us/step - loss: 0.3445 - accuracy: 0.8584\n",
      "Epoch 34/100\n",
      "250/250 [==============================] - 0s 945us/step - loss: 0.3440 - accuracy: 0.8583\n",
      "Epoch 35/100\n",
      "250/250 [==============================] - 0s 903us/step - loss: 0.3436 - accuracy: 0.8612\n",
      "Epoch 36/100\n",
      "250/250 [==============================] - 0s 923us/step - loss: 0.3433 - accuracy: 0.8589\n",
      "Epoch 37/100\n",
      "250/250 [==============================] - 0s 968us/step - loss: 0.3432 - accuracy: 0.8594\n",
      "Epoch 38/100\n",
      "250/250 [==============================] - 0s 928us/step - loss: 0.3422 - accuracy: 0.8601\n",
      "Epoch 39/100\n",
      "250/250 [==============================] - 0s 909us/step - loss: 0.3419 - accuracy: 0.8602\n",
      "Epoch 40/100\n",
      "250/250 [==============================] - 0s 899us/step - loss: 0.3417 - accuracy: 0.8604\n",
      "Epoch 41/100\n",
      "250/250 [==============================] - 0s 920us/step - loss: 0.3413 - accuracy: 0.8601\n",
      "Epoch 42/100\n",
      "250/250 [==============================] - 0s 897us/step - loss: 0.3410 - accuracy: 0.8612\n",
      "Epoch 43/100\n",
      "250/250 [==============================] - 0s 879us/step - loss: 0.3406 - accuracy: 0.8605\n",
      "Epoch 44/100\n",
      "250/250 [==============================] - 0s 901us/step - loss: 0.3402 - accuracy: 0.8599\n",
      "Epoch 45/100\n",
      "250/250 [==============================] - 0s 889us/step - loss: 0.3393 - accuracy: 0.8631\n",
      "Epoch 46/100\n",
      "250/250 [==============================] - 0s 957us/step - loss: 0.3400 - accuracy: 0.8616\n",
      "Epoch 47/100\n",
      "250/250 [==============================] - 0s 919us/step - loss: 0.3397 - accuracy: 0.8611\n",
      "Epoch 48/100\n",
      "250/250 [==============================] - 0s 905us/step - loss: 0.3389 - accuracy: 0.8599\n",
      "Epoch 49/100\n",
      "250/250 [==============================] - 0s 901us/step - loss: 0.3391 - accuracy: 0.8614\n",
      "Epoch 50/100\n",
      "250/250 [==============================] - 0s 900us/step - loss: 0.3389 - accuracy: 0.8622\n",
      "Epoch 51/100\n",
      "250/250 [==============================] - 0s 1ms/step - loss: 0.3375 - accuracy: 0.8608\n",
      "Epoch 52/100\n",
      "250/250 [==============================] - 0s 924us/step - loss: 0.3382 - accuracy: 0.8619\n",
      "Epoch 53/100\n",
      "250/250 [==============================] - 0s 918us/step - loss: 0.3374 - accuracy: 0.8611\n",
      "Epoch 54/100\n",
      "250/250 [==============================] - 0s 934us/step - loss: 0.3378 - accuracy: 0.8611\n",
      "Epoch 55/100\n",
      "250/250 [==============================] - 0s 938us/step - loss: 0.3375 - accuracy: 0.8610\n",
      "Epoch 56/100\n",
      "250/250 [==============================] - 0s 981us/step - loss: 0.3374 - accuracy: 0.8612\n",
      "Epoch 57/100\n",
      "250/250 [==============================] - 0s 999us/step - loss: 0.3380 - accuracy: 0.8630\n",
      "Epoch 58/100\n",
      "250/250 [==============================] - 0s 1ms/step - loss: 0.3373 - accuracy: 0.8630\n",
      "Epoch 59/100\n",
      "250/250 [==============================] - 0s 1ms/step - loss: 0.3371 - accuracy: 0.8619\n",
      "Epoch 60/100\n",
      "250/250 [==============================] - 0s 1ms/step - loss: 0.3370 - accuracy: 0.8606\n",
      "Epoch 61/100\n",
      "250/250 [==============================] - 0s 1ms/step - loss: 0.3377 - accuracy: 0.8618\n",
      "Epoch 62/100\n",
      "250/250 [==============================] - 0s 1ms/step - loss: 0.3373 - accuracy: 0.8633\n",
      "Epoch 63/100\n",
      "250/250 [==============================] - 0s 1ms/step - loss: 0.3368 - accuracy: 0.8626\n",
      "Epoch 64/100\n",
      "250/250 [==============================] - 0s 1ms/step - loss: 0.3365 - accuracy: 0.8621\n",
      "Epoch 65/100\n",
      "250/250 [==============================] - 0s 1ms/step - loss: 0.3365 - accuracy: 0.8618\n",
      "Epoch 66/100\n",
      "250/250 [==============================] - 0s 1ms/step - loss: 0.3371 - accuracy: 0.8641\n",
      "Epoch 67/100\n",
      "250/250 [==============================] - 0s 1ms/step - loss: 0.3368 - accuracy: 0.8619\n",
      "Epoch 68/100\n",
      "250/250 [==============================] - 0s 1ms/step - loss: 0.3369 - accuracy: 0.8629\n",
      "Epoch 69/100\n",
      "250/250 [==============================] - 0s 1ms/step - loss: 0.3359 - accuracy: 0.8629\n",
      "Epoch 70/100\n",
      "250/250 [==============================] - 0s 1ms/step - loss: 0.3364 - accuracy: 0.8624\n",
      "Epoch 71/100\n",
      "250/250 [==============================] - 0s 1ms/step - loss: 0.3364 - accuracy: 0.8624\n",
      "Epoch 72/100\n",
      "250/250 [==============================] - 0s 1ms/step - loss: 0.3359 - accuracy: 0.8625\n",
      "Epoch 73/100\n",
      "250/250 [==============================] - 0s 1ms/step - loss: 0.3360 - accuracy: 0.8639\n",
      "Epoch 74/100\n",
      "250/250 [==============================] - 0s 1ms/step - loss: 0.3357 - accuracy: 0.8626\n",
      "Epoch 75/100\n",
      "250/250 [==============================] - 0s 1ms/step - loss: 0.3355 - accuracy: 0.8634\n",
      "Epoch 76/100\n",
      "250/250 [==============================] - 0s 1ms/step - loss: 0.3355 - accuracy: 0.8627\n",
      "Epoch 77/100\n",
      "250/250 [==============================] - 0s 1ms/step - loss: 0.3360 - accuracy: 0.8630\n",
      "Epoch 78/100\n",
      "250/250 [==============================] - 0s 1ms/step - loss: 0.3360 - accuracy: 0.8640\n",
      "Epoch 79/100\n",
      "250/250 [==============================] - 0s 1ms/step - loss: 0.3359 - accuracy: 0.8644\n",
      "Epoch 80/100\n",
      "250/250 [==============================] - 0s 1ms/step - loss: 0.3358 - accuracy: 0.8644\n",
      "Epoch 81/100\n",
      "250/250 [==============================] - 0s 1ms/step - loss: 0.3353 - accuracy: 0.8624\n",
      "Epoch 82/100\n",
      "250/250 [==============================] - 0s 1ms/step - loss: 0.3357 - accuracy: 0.8639\n",
      "Epoch 83/100\n",
      "250/250 [==============================] - 0s 1ms/step - loss: 0.3352 - accuracy: 0.8619\n",
      "Epoch 84/100\n",
      "250/250 [==============================] - 0s 1ms/step - loss: 0.3355 - accuracy: 0.8631\n",
      "Epoch 85/100\n",
      "250/250 [==============================] - 0s 1ms/step - loss: 0.3356 - accuracy: 0.8626\n",
      "Epoch 86/100\n",
      "250/250 [==============================] - 0s 1ms/step - loss: 0.3350 - accuracy: 0.8636\n",
      "Epoch 87/100\n",
      "250/250 [==============================] - 0s 1ms/step - loss: 0.3354 - accuracy: 0.8621\n",
      "Epoch 88/100\n",
      "250/250 [==============================] - 0s 1ms/step - loss: 0.3354 - accuracy: 0.8644\n",
      "Epoch 89/100\n",
      "250/250 [==============================] - 0s 961us/step - loss: 0.3351 - accuracy: 0.8630\n",
      "Epoch 90/100\n",
      "250/250 [==============================] - 0s 973us/step - loss: 0.3355 - accuracy: 0.8619\n",
      "Epoch 91/100\n",
      "250/250 [==============================] - 0s 1ms/step - loss: 0.3351 - accuracy: 0.8626\n",
      "Epoch 92/100\n",
      "250/250 [==============================] - 0s 1ms/step - loss: 0.3352 - accuracy: 0.8644\n",
      "Epoch 93/100\n",
      "250/250 [==============================] - 0s 1ms/step - loss: 0.3346 - accuracy: 0.8643\n",
      "Epoch 94/100\n",
      "250/250 [==============================] - 0s 1ms/step - loss: 0.3349 - accuracy: 0.8630\n",
      "Epoch 95/100\n",
      "250/250 [==============================] - 0s 998us/step - loss: 0.3344 - accuracy: 0.8640\n",
      "Epoch 96/100\n",
      "250/250 [==============================] - 0s 1ms/step - loss: 0.3347 - accuracy: 0.8633\n",
      "Epoch 97/100\n",
      "250/250 [==============================] - 0s 1ms/step - loss: 0.3349 - accuracy: 0.8626\n",
      "Epoch 98/100\n",
      "250/250 [==============================] - 0s 1ms/step - loss: 0.3351 - accuracy: 0.8633\n",
      "Epoch 99/100\n",
      "250/250 [==============================] - 0s 965us/step - loss: 0.3342 - accuracy: 0.8645\n",
      "Epoch 100/100\n",
      "250/250 [==============================] - 0s 975us/step - loss: 0.3349 - accuracy: 0.8636\n"
     ]
    },
    {
     "data": {
      "text/plain": [
       "<keras.callbacks.History at 0x20e11183850>"
      ]
     },
     "execution_count": 13,
     "metadata": {},
     "output_type": "execute_result"
    }
   ],
   "source": [
    "ann.fit(X_train, y_train, batch_size = 32, epochs = 100)"
   ]
  },
  {
   "cell_type": "markdown",
   "metadata": {},
   "source": [
    "Making predictions"
   ]
  },
  {
   "cell_type": "code",
   "execution_count": 14,
   "metadata": {},
   "outputs": [
    {
     "name": "stdout",
     "output_type": "stream",
     "text": [
      "1/1 [==============================] - 0s 86ms/step\n",
      "[[0.03537895]]\n"
     ]
    }
   ],
   "source": [
    "print(ann.predict(sc.transform([[1,0,0,600,1,40,3,60000,2,1,1,50000]])))"
   ]
  },
  {
   "cell_type": "markdown",
   "metadata": {},
   "source": [
    "Predict test set"
   ]
  },
  {
   "cell_type": "code",
   "execution_count": 15,
   "metadata": {},
   "outputs": [
    {
     "name": "stdout",
     "output_type": "stream",
     "text": [
      "63/63 [==============================] - 0s 796us/step\n",
      "[[0 0]\n",
      " [0 1]\n",
      " [0 0]\n",
      " ...\n",
      " [0 0]\n",
      " [0 0]\n",
      " [0 0]]\n"
     ]
    }
   ],
   "source": [
    "y_pred = ann.predict(X_test)\n",
    "y_pred = (y_pred>0.5)\n",
    "print(np.concatenate((y_pred.reshape(len(y_pred),1), y_test.reshape(len(y_test),1)),1))"
   ]
  },
  {
   "cell_type": "markdown",
   "metadata": {},
   "source": [
    "Confusion matrix"
   ]
  },
  {
   "cell_type": "code",
   "execution_count": 16,
   "metadata": {},
   "outputs": [
    {
     "name": "stdout",
     "output_type": "stream",
     "text": [
      "[[1513   82]\n",
      " [ 197  208]]\n"
     ]
    },
    {
     "data": {
      "text/plain": [
       "0.8605"
      ]
     },
     "execution_count": 16,
     "metadata": {},
     "output_type": "execute_result"
    }
   ],
   "source": [
    "from sklearn.metrics import confusion_matrix, accuracy_score\n",
    "cm = confusion_matrix(y_test, y_pred)\n",
    "print(cm)\n",
    "accuracy_score(y_test, y_pred)"
   ]
  }
 ],
 "metadata": {
  "kernelspec": {
   "display_name": "Python 3.10.4 64-bit",
   "language": "python",
   "name": "python3"
  },
  "language_info": {
   "codemirror_mode": {
    "name": "ipython",
    "version": 3
   },
   "file_extension": ".py",
   "mimetype": "text/x-python",
   "name": "python",
   "nbconvert_exporter": "python",
   "pygments_lexer": "ipython3",
   "version": "3.10.4"
  },
  "orig_nbformat": 4,
  "vscode": {
   "interpreter": {
    "hash": "b1be5a1e9e85905d3e4e97ef1b769f5caa870a8a58c9f9e0ae488b6f0a0e1baf"
   }
  }
 },
 "nbformat": 4,
 "nbformat_minor": 2
}
